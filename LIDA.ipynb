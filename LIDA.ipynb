{
 "cells": [
  {
   "cell_type": "code",
   "execution_count": 1,
   "metadata": {},
   "outputs": [],
   "source": [
    "import streamlit as st\n",
    "from lida import Manager, TextGenerationConfig, llm\n",
    "from dotenv import load_dotenv\n",
    "import os\n",
    "import openai\n",
    "import io\n",
    "from PIL import Image\n",
    "from io import BytesIO\n",
    "import base64"
   ]
  },
  {
   "cell_type": "code",
   "execution_count": 8,
   "metadata": {},
   "outputs": [
    {
     "name": "stderr",
     "output_type": "stream",
     "text": [
      "2024-04-12 14:11:20.302 \n",
      "  \u001b[33m\u001b[1mWarning:\u001b[0m to view this Streamlit app on a browser, run it with the following\n",
      "  command:\n",
      "\n",
      "    streamlit run C:\\Users\\anish\\AppData\\Roaming\\Python\\Python311\\site-packages\\ipykernel_launcher.py [ARGUMENTS]\n"
     ]
    }
   ],
   "source": [
    "load_dotenv()\n",
    "openai_api_key = os.getenv('OPENAI_API_KEY')\n",
    "\n",
    "def base64_to_image(base64_string):\n",
    "    #Decoding base64 string\n",
    "    byte_data = base64.b64decode(base64_string)\n",
    "\n",
    "    #ByteIO to convert byte data to image\n",
    "    return Image.open(BytesIO(byte_data))\n",
    "\n",
    "lida = Manager(text_gen = llm(\"openai\"))\n",
    "# llm(provider = 'hf',model = \"modelname\",device_map = \"auto\")\n",
    "\n",
    "textgenconfig = TextGenerationConfig(n=1,temp=0.5,model = 'gpt-3.5-turbo-0301',use_cache = True)\n",
    "\n",
    "menu = st.sidebar.selectbox('Choose an Option',['Summarize','Question based Graph'])\n",
    "\n",
    "if menu == 'Summarize':\n",
    "    st.subheader(\"Summarization fo your data\")\n",
    "    file_uploader = st.file_uploader(\"Upload your file\",type = \"csv\")\n",
    "    if file_uploader is not None:\n",
    "        path_to_save = \"filename.csv\"\n",
    "        with open(path_to_save,\"wb\") as f:\n",
    "            f.write(file_uploader.getvalue())\n",
    "        summary = lida.summarize(\"filename.csv\",summary_method = \"default\",textgen_config = textgen_config)\n",
    "        st.write(summary)\n",
    "        goals = lida.goals(summary,n=2,textgen_config = textgen_config)\n",
    "        for goal in goals:\n",
    "            st.write(goal)\n",
    "        i = 0\n",
    "        library = \"seaborn\"\n",
    "        textgen_config = TextGenerationConfig(n=1,temperature = 0.2,use_cache  = True)\n",
    "        charts = lida.visualize(summary = summary, goal = goals[i],textgen_config = textgen_config,library = library)\n",
    "        img_base64_str = charts[0].raster\n",
    "        img = base64_to_image(img_base64_string)\n",
    "        st.image(img)\n",
    "\n",
    "elif menu == \"Question based Graph\":\n",
    "    st.subheader(\"Query your data to Generate Graph\")\n",
    "    file_uploader = st.file_uploader(\"Upload your csv\",type = \"csv\")\n",
    "    if file_uploader is not None:\n",
    "        path_to_save = \"filename1.csv\"\n",
    "        with open(path_to_save,\"wb\") as f:\n",
    "            f.write(file_uploader.getvalue())\n",
    "\n",
    "        textarea = st.text_area(\"Query your data to generate graph\",height = 200)\n",
    "        if st.button(\"Generate button\"):\n",
    "            if len(text_area)>0:\n",
    "                st.info(\"Your query: \" + text_area)\n",
    "                lida = Manager(text_gen = llm(\"openai\"))\n",
    "                textgen_config = TextGenerationConfig(n=1,temperature = 0.2,use_cache  = True)\n",
    "                summary = lida.summarize(\"filename1.csv\",summary_method = \"default\",textgen_config = textgen_config)\n",
    "                user_query = text_area\n",
    "                charts = lida.visualize(summary= summary, goal = user_query, textgen_config = textgen_config)\n",
    "                charts[0]\n",
    "                image_base64 = charts[0].raster\n",
    "                img = base64_to_image(image_base64)\n",
    "                st.image(img) "
   ]
  },
  {
   "cell_type": "code",
   "execution_count": null,
   "metadata": {},
   "outputs": [],
   "source": []
  }
 ],
 "metadata": {
  "kernelspec": {
   "display_name": "Python 3",
   "language": "python",
   "name": "python3"
  },
  "language_info": {
   "codemirror_mode": {
    "name": "ipython",
    "version": 3
   },
   "file_extension": ".py",
   "mimetype": "text/x-python",
   "name": "python",
   "nbconvert_exporter": "python",
   "pygments_lexer": "ipython3",
   "version": "3.11.4"
  }
 },
 "nbformat": 4,
 "nbformat_minor": 2
}
